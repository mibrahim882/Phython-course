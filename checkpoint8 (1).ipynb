{
  "nbformat": 4,
  "nbformat_minor": 0,
  "metadata": {
    "colab": {
      "provenance": []
    },
    "kernelspec": {
      "name": "python3",
      "display_name": "Python 3"
    },
    "language_info": {
      "name": "python"
    }
  },
  "cells": [
    {
      "cell_type": "code",
      "execution_count": null,
      "metadata": {
        "id": "LHkvwCy-rVE1"
      },
      "outputs": [],
      "source": [
        "#1\n",
        "x = open(\"/content/python.txt\")\n",
        "x.read()"
      ]
    },
    {
      "cell_type": "code",
      "source": [
        "#2\n",
        "x = open(\"/content/python.txt\")\n",
        "for i in range(3):\n",
        "  number = x.readline()\n",
        "  print(number)"
      ],
      "metadata": {
        "id": "5Iv3LFHMr9u-"
      },
      "execution_count": null,
      "outputs": []
    },
    {
      "cell_type": "code",
      "source": [
        "#3\n",
        "x = open(\"/content/python.txt\")\n",
        "y = x.read()\n",
        "print(len(y.split(\" \")))"
      ],
      "metadata": {
        "id": "TULCDZ5esbCf"
      },
      "execution_count": null,
      "outputs": []
    },
    {
      "cell_type": "code",
      "source": [
        "#4\n",
        "x = open(\"/content/python.txt\")\n",
        "y = x.read()\n",
        "k = y.split(\" \")\n",
        "len(k)"
      ],
      "metadata": {
        "id": "nQtSALEqtCV3"
      },
      "execution_count": null,
      "outputs": []
    }
  ]
}