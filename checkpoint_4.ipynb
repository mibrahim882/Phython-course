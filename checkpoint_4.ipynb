{
  "nbformat": 4,
  "nbformat_minor": 0,
  "metadata": {
    "colab": {
      "provenance": []
    },
    "kernelspec": {
      "name": "python3",
      "display_name": "Python 3"
    },
    "language_info": {
      "name": "python"
    }
  },
  "cells": [
    {
      "cell_type": "code",
      "source": [
        "# question 1 \n",
        "class point3d:\n",
        "  def __init__(self,x,y,z):\n",
        "      self.x=x\n",
        "      self.y=y\n",
        "      self.z=z\n",
        "  def xyz(self):\n",
        "      return self.x,self.y,self.z\n",
        "point=point3d(1,2,3)\n",
        "print(point.xyz())     "
      ],
      "metadata": {
        "colab": {
          "base_uri": "https://localhost:8080/"
        },
        "id": "Y-OBtOd64cH2",
        "outputId": "210516d4-e33d-465e-f93c-ac01f30987c0"
      },
      "execution_count": 23,
      "outputs": [
        {
          "output_type": "stream",
          "name": "stdout",
          "text": [
            "(1, 2, 3)\n"
          ]
        }
      ]
    },
    {
      "cell_type": "code",
      "execution_count": 22,
      "metadata": {
        "colab": {
          "base_uri": "https://localhost:8080/"
        },
        "id": "Ssk-v92Vd0VX",
        "outputId": "d3180d77-6e88-40b7-911c-3ae30c94942a"
      },
      "outputs": [
        {
          "output_type": "stream",
          "name": "stdout",
          "text": [
            "12\n",
            "14\n"
          ]
        }
      ],
      "source": [
        "# question 2\n",
        "class Rectangle():\n",
        "  def __init__(self,length,width):\n",
        "      self.length=length\n",
        "      self.width=width\n",
        "  def area(self):\n",
        "      return (self.length*self.width)\n",
        "  def primeter(self):\n",
        "      return ((self.length+self.width)*2)\n",
        "my_rectangle=Rectangle(4,3)\n",
        "print(my_rectangle.area())\n",
        "print(my_rectangle.primeter())      \n",
        "         \n",
        "\n"
      ]
    },
    {
      "cell_type": "code",
      "source": [
        "#question 3 \n",
        "class Circle():\n",
        "  def __init__(self,center,radius):\n",
        "      self.center=center\n",
        "      self.radius=radius\n",
        "  def area(self):\n",
        "      return (self.radius*3.14**2) \n",
        "  def primeter(self):\n",
        "      return ((self.radius*3.13)*2)\n",
        "  def isinside(self,j,k):\n",
        "    if (j-self.center[0]**2)+(self.center[1]-k**2) <= self.radius*self.radius:\n",
        "      return \"the point is inside\"\n",
        "    else :\n",
        "      return \"the point is outside\"\n",
        "my_circle=Circle((0,1),2)\n",
        "print(my_circle.area())\n",
        "print(my_circle.primeter())\n",
        "print(my_circle.isinside(2,3))"
      ],
      "metadata": {
        "colab": {
          "base_uri": "https://localhost:8080/"
        },
        "id": "ymRLwHqy6G_e",
        "outputId": "e6135a5b-08a6-466b-88c7-864a234dfabe"
      },
      "execution_count": 14,
      "outputs": [
        {
          "output_type": "stream",
          "name": "stdout",
          "text": [
            "19.7192\n",
            "12.52\n",
            "the point is inside\n"
          ]
        }
      ]
    },
    {
      "cell_type": "code",
      "source": [
        "#question 4 \n",
        "class Bank():\n",
        "  def __init__(self,balance):\n",
        "      self.balance=balance\n",
        "  def deposit(self):\n",
        "      z=int(input())\n",
        "      self.balance = self.balance+z\n",
        "      return (self.balance)\n",
        "  def withdraw(self):\n",
        "      z=int(input())  \n",
        "      self.balance = self.balance-z\n",
        "      return (self.balance)\n",
        "my_balance=Bank(100)\n",
        "print(my_balance.deposit())\n",
        "print(my_balance.withdraw())         "
      ],
      "metadata": {
        "colab": {
          "base_uri": "https://localhost:8080/"
        },
        "id": "qHGUTWKletle",
        "outputId": "ac14e180-f295-45a2-ff96-d37b9f8169d5"
      },
      "execution_count": 10,
      "outputs": [
        {
          "output_type": "stream",
          "name": "stdout",
          "text": [
            "100\n",
            "200\n",
            "50\n",
            "150\n"
          ]
        }
      ]
    },
    {
      "cell_type": "code",
      "source": [],
      "metadata": {
        "id": "kmo-SAeemeT-"
      },
      "execution_count": null,
      "outputs": []
    }
  ]
}