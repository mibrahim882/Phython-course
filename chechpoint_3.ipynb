{
  "nbformat": 4,
  "nbformat_minor": 0,
  "metadata": {
    "colab": {
      "provenance": [],
      "collapsed_sections": []
    },
    "kernelspec": {
      "name": "python3",
      "display_name": "Python 3"
    },
    "language_info": {
      "name": "python"
    }
  },
  "cells": [
    {
      "cell_type": "code",
      "source": [
        "#question 1 \n",
        "def max( x, y ):\n",
        " if x > y:\n",
        "    return x\n",
        " return y\n",
        "def maxx(x,y,z):\n",
        "    return max(x, max( y, z ))\n",
        "print(\"max number is \",maxx(20, 35,19))"
      ],
      "metadata": {
        "colab": {
          "base_uri": "https://localhost:8080/"
        },
        "id": "fyZvFEWd4KA0",
        "outputId": "44da6f9f-e6f3-49ff-a746-de94faee8d59"
      },
      "execution_count": null,
      "outputs": [
        {
          "output_type": "stream",
          "name": "stdout",
          "text": [
            "max number is  35\n"
          ]
        }
      ]
    },
    {
      "cell_type": "code",
      "source": [
        "#question 2 \n",
        "def sum(a,b): \n",
        " return a+b,a-b\n",
        "print(sum(40,10))"
      ],
      "metadata": {
        "id": "FzT-Sud4-D8C",
        "colab": {
          "base_uri": "https://localhost:8080/"
        },
        "outputId": "a1d7f603-5223-49ba-bb77-283456d92d17"
      },
      "execution_count": null,
      "outputs": [
        {
          "output_type": "stream",
          "name": "stdout",
          "text": [
            "(50, 30)\n"
          ]
        }
      ]
    },
    {
      "cell_type": "code",
      "source": [
        "#questuin 3\n",
        "liste=[1,2,3,4,5,6,7,8]\n",
        "def sum (kk):\n",
        "  sum=0\n",
        "  for i in kk:\n",
        "    sum+=i\n",
        "  return sum\n",
        "def mult(ll):\n",
        "  mult=1\n",
        "  for i in ll:\n",
        "    mult=mult*i\n",
        "  return mult\n",
        "even=[]\n",
        "odd=[]\n",
        "for i in range(len(liste)):\n",
        "  if i % 2 ==0:\n",
        "    even.append(liste[i])\n",
        "  else:\n",
        "      odd.append(liste[i])\n",
        "print(sum(even))\n",
        "print(mult(odd))\n"
      ],
      "metadata": {
        "colab": {
          "base_uri": "https://localhost:8080/"
        },
        "id": "zL2wxwuFlIx2",
        "outputId": "6da40da5-ab61-4a20-fcd7-801adf27ad8c"
      },
      "execution_count": null,
      "outputs": [
        {
          "output_type": "stream",
          "name": "stdout",
          "text": [
            "16\n",
            "384\n"
          ]
        }
      ]
    },
    {
      "cell_type": "code",
      "source": [
        "#question 4\n",
        "x=\"green,red,yellow,black,white\"\n",
        "y=x.split(\",\")\n",
        "y.sort()\n",
        "print(\",\".join(y))\n"
      ],
      "metadata": {
        "colab": {
          "base_uri": "https://localhost:8080/"
        },
        "id": "6vutlMZsr6Ak",
        "outputId": "ae33e903-0e4f-46aa-bcdc-4baf171a74c5"
      },
      "execution_count": null,
      "outputs": [
        {
          "output_type": "stream",
          "name": "stdout",
          "text": [
            "black,green,red,white,yellow\n"
          ]
        }
      ]
    },
    {
      "cell_type": "code",
      "source": [
        "# question 5\n",
        "def oper(D):\n",
        " return int(((2 * 50 *D)/30)**0.5)\n",
        "x =input().split(\",\")\n",
        "\n",
        "for i in x:\n",
        "  print(oper(int(i)),end = \",\")\n"
      ],
      "metadata": {
        "colab": {
          "base_uri": "https://localhost:8080/"
        },
        "id": "TG75TibLAlDp",
        "outputId": "f059a40d-9e5f-4064-8c2d-2520c2e0a424"
      },
      "execution_count": null,
      "outputs": [
        {
          "output_type": "stream",
          "name": "stdout",
          "text": [
            "100,150,180\n",
            "18,22,24,"
          ]
        }
      ]
    },
    {
      "cell_type": "code",
      "source": [],
      "metadata": {
        "id": "9Rowe1qCIEg9"
      },
      "execution_count": null,
      "outputs": []
    }
  ]
}