{
  "cells": [
    {
      "cell_type": "code",
      "execution_count": null,
      "metadata": {
        "colab": {
          "base_uri": "https://localhost:8080/"
        },
        "id": "CyfC4gohVE5A",
        "outputId": "099a7382-2253-4a41-fb69-b7b504a627c5"
      },
      "outputs": [
        {
          "name": "stdout",
          "output_type": "stream",
          "text": [
            "enter your first name :mo\n",
            "enter your last name :ibra\n"
          ]
        }
      ],
      "source": [
        "x=input(\"enter your first name :\")\n",
        "y=input(\"enter your last name :\") "
      ]
    },
    {
      "cell_type": "code",
      "execution_count": null,
      "metadata": {
        "colab": {
          "base_uri": "https://localhost:8080/"
        },
        "id": "5hwoh1TKe-mB",
        "outputId": "d4a8fbf4-919f-43d5-c8ed-715df76bab99"
      },
      "outputs": [
        {
          "name": "stdout",
          "output_type": "stream",
          "text": [
            "ibrahim mohamed\n"
          ]
        }
      ],
      "source": [
        "print(y,x)"
      ]
    },
    {
      "cell_type": "code",
      "execution_count": null,
      "metadata": {
        "id": "_eobSU76rJsD"
      },
      "outputs": [],
      "source": [
        "#question 2 \n"
      ]
    },
    {
      "cell_type": "code",
      "execution_count": null,
      "metadata": {
        "colab": {
          "base_uri": "https://localhost:8080/"
        },
        "id": "ZdjLl37DVe5t",
        "outputId": "b58366b8-fde1-472b-8d04-7e6648885e54"
      },
      "outputs": [
        {
          "name": "stdout",
          "output_type": "stream",
          "text": [
            "5\n",
            "55\n",
            "555\n",
            "615\n"
          ]
        }
      ],
      "source": [
        "x=int(input())\n",
        "y=int(input())\n",
        "z=int(input())\n",
        "print(x+y+z)\n"
      ]
    },
    {
      "cell_type": "code",
      "execution_count": null,
      "metadata": {
        "id": "2Tz3OgkkU2b-"
      },
      "outputs": [],
      "source": [
        "#question3"
      ]
    },
    {
      "cell_type": "code",
      "execution_count": null,
      "metadata": {
        "colab": {
          "base_uri": "https://localhost:8080/"
        },
        "id": "gPH7CgpfU8Y3",
        "outputId": "bea24362-1648-4cb6-f5cc-7b1968283563"
      },
      "outputs": [
        {
          "name": "stdout",
          "output_type": "stream",
          "text": [
            "4\n",
            "even\n"
          ]
        }
      ],
      "source": [
        "x=int(input())\n",
        "if x ==2:\n",
        "    print(\"odd\")\n",
        "elif x %2 == 0:\n",
        "    print(\"even\")\n",
        "    "
      ]
    },
    {
      "cell_type": "code",
      "source": [
        "#question 4\n",
        "for i in range(2000,3201):\n",
        "  if i % 7==0 and i % 5!=0:\n",
        "    print(i,end=\",\")"
      ],
      "metadata": {
        "colab": {
          "base_uri": "https://localhost:8080/"
        },
        "id": "ZC4xU6-oz4ik",
        "outputId": "044a1143-af26-443f-ba97-21975328ab9e"
      },
      "execution_count": 1,
      "outputs": [
        {
          "output_type": "stream",
          "name": "stdout",
          "text": [
            "2002,2009,2016,2023,2037,2044,2051,2058,2072,2079,2086,2093,2107,2114,2121,2128,2142,2149,2156,2163,2177,2184,2191,2198,2212,2219,2226,2233,2247,2254,2261,2268,2282,2289,2296,2303,2317,2324,2331,2338,2352,2359,2366,2373,2387,2394,2401,2408,2422,2429,2436,2443,2457,2464,2471,2478,2492,2499,2506,2513,2527,2534,2541,2548,2562,2569,2576,2583,2597,2604,2611,2618,2632,2639,2646,2653,2667,2674,2681,2688,2702,2709,2716,2723,2737,2744,2751,2758,2772,2779,2786,2793,2807,2814,2821,2828,2842,2849,2856,2863,2877,2884,2891,2898,2912,2919,2926,2933,2947,2954,2961,2968,2982,2989,2996,3003,3017,3024,3031,3038,3052,3059,3066,3073,3087,3094,3101,3108,3122,3129,3136,3143,3157,3164,3171,3178,3192,3199,"
          ]
        }
      ]
    },
    {
      "cell_type": "code",
      "source": [
        "#question 5\n",
        "x=int(input())\n",
        "y=1\n",
        "for i in range(1,5):\n",
        "  y=y*i\n",
        "  print(y)"
      ],
      "metadata": {
        "colab": {
          "base_uri": "https://localhost:8080/"
        },
        "id": "t-qK9ySo0XOp",
        "outputId": "9f19eb29-950b-4b7b-8456-9f9567f3acce"
      },
      "execution_count": 3,
      "outputs": [
        {
          "output_type": "stream",
          "name": "stdout",
          "text": [
            "5\n",
            "1\n",
            "2\n",
            "6\n",
            "24\n"
          ]
        }
      ]
    },
    {
      "cell_type": "code",
      "source": [
        "#question6\n",
        "x=\"hello team\"\n",
        "y=\"\"\n",
        "for i in range(len(x)):\n",
        "  if i % 2==0:\n",
        "    y= y + x[i]\n",
        "    print(y)"
      ],
      "metadata": {
        "colab": {
          "base_uri": "https://localhost:8080/"
        },
        "id": "HEOWU50n02vR",
        "outputId": "4430eabd-dc2a-471f-88b2-4c4af717c9c7"
      },
      "execution_count": 4,
      "outputs": [
        {
          "output_type": "stream",
          "name": "stdout",
          "text": [
            "h\n",
            "hl\n",
            "hlo\n",
            "hlot\n",
            "hlota\n"
          ]
        }
      ]
    },
    {
      "cell_type": "code",
      "execution_count": null,
      "metadata": {
        "id": "9jWuYXy_agH7"
      },
      "outputs": [],
      "source": [
        "#question 7"
      ]
    },
    {
      "cell_type": "code",
      "execution_count": 6,
      "metadata": {
        "colab": {
          "base_uri": "https://localhost:8080/"
        },
        "id": "MvBram-jaq1Z",
        "outputId": "0d7141da-4991-4945-ef70-b0c67a7cbf81"
      },
      "outputs": [
        {
          "output_type": "stream",
          "name": "stdout",
          "text": [
            "400\n",
            "the discount= 280.0 and the discounted price = 280.0\n"
          ]
        }
      ],
      "source": [
        "x=int(input())\n",
        "if x >=500:\n",
        "  dis=0.5*x\n",
        "  dp=0.5*x\n",
        "  print(\"the discount=\",dis,\"and the discounted price =\",dp)\n",
        "elif x >200 and x <500:\n",
        "  dis=0.7*x\n",
        "  dp=0.7*x\n",
        "  print(\"the discount=\",dis,\"and the discounted price =\",dp)\n",
        "else:\n",
        "  dis=0.9*x\n",
        "  dp=0.9*x\n",
        "  print(\"the discount=\",dis,\"and the discounted price =\",dp)\n",
        "\n",
        "\n"
      ]
    }
  ],
  "metadata": {
    "colab": {
      "collapsed_sections": [],
      "name": "checkpoint 1.ipynb",
      "provenance": []
    },
    "kernelspec": {
      "display_name": "Python 3",
      "name": "python3"
    },
    "language_info": {
      "name": "python"
    }
  },
  "nbformat": 4,
  "nbformat_minor": 0
}