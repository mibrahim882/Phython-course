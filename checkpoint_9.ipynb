{
  "nbformat": 4,
  "nbformat_minor": 0,
  "metadata": {
    "colab": {
      "provenance": []
    },
    "kernelspec": {
      "name": "python3",
      "display_name": "Python 3"
    },
    "language_info": {
      "name": "python"
    }
  },
  "cells": [
    {
      "cell_type": "code",
      "execution_count": 10,
      "metadata": {
        "colab": {
          "base_uri": "https://localhost:8080/"
        },
        "id": "c89pzO7My-TL",
        "outputId": "76f6f997-f7b0-4d71-8238-59b824fbea97"
      },
      "outputs": [
        {
          "output_type": "stream",
          "name": "stdout",
          "text": [
            "5\n",
            "8\n",
            "8\n"
          ]
        }
      ],
      "source": [
        "def binary_search(x,wanted):\n",
        "\n",
        "    begin_index = 0\n",
        "    end_index = len(x)-1\n",
        "\n",
        "    while begin_index <= end_index:\n",
        "      midpoint = begin_index + (end_index - begin_index) // 2 \n",
        "      print(midpoint)\n",
        "      midpoint_value = x[midpoint]\n",
        "      if wanted == midpoint_value:\n",
        "        return midpoint \n",
        "      elif wanted < midpoint_value:\n",
        "        end_index = midpoint - 1\n",
        "      else:\n",
        "        begin_index = midpoint + 1\n",
        "    return \"not found\"\n",
        "\n",
        "\n",
        "list1 = [20,30,40,50,60,70,80,90,100,110,120]\n",
        "print(binary_search(list1,100)) "
      ]
    },
    {
      "cell_type": "code",
      "source": [
        "#question2\n",
        "def power(base,pow):\n",
        "   if pow == 0:\n",
        "     return 1\n",
        "   else:\n",
        "     return base*power(base,pow-1)\n",
        "power(2,3)     \n"
      ],
      "metadata": {
        "colab": {
          "base_uri": "https://localhost:8080/"
        },
        "id": "xDr5VRzr1sey",
        "outputId": "d962dee0-f976-44f1-846d-42dd7d79b599"
      },
      "execution_count": 11,
      "outputs": [
        {
          "output_type": "execute_result",
          "data": {
            "text/plain": [
              "8"
            ]
          },
          "metadata": {},
          "execution_count": 11
        }
      ]
    },
    {
      "cell_type": "code",
      "source": [
        "#question3 \n",
        "x =  [29,13,22,37,52,49,46,71,56]\n",
        "\n",
        "for j in range(len(x)-1):\n",
        "  for i in range(len(x)-1):\n",
        "    if x[i] > x[i+1]:\n",
        "      x[i] , x[i+1] = x[i+1] , x[i]\n",
        "  print(x)"
      ],
      "metadata": {
        "colab": {
          "base_uri": "https://localhost:8080/"
        },
        "id": "yOz-Ub_C2riU",
        "outputId": "2b350fa0-a6f1-4080-ed3c-36f7d29a9177"
      },
      "execution_count": 12,
      "outputs": [
        {
          "output_type": "stream",
          "name": "stdout",
          "text": [
            "[13, 22, 29, 37, 49, 46, 52, 56, 71]\n",
            "[13, 22, 29, 37, 46, 49, 52, 56, 71]\n",
            "[13, 22, 29, 37, 46, 49, 52, 56, 71]\n",
            "[13, 22, 29, 37, 46, 49, 52, 56, 71]\n",
            "[13, 22, 29, 37, 46, 49, 52, 56, 71]\n",
            "[13, 22, 29, 37, 46, 49, 52, 56, 71]\n",
            "[13, 22, 29, 37, 46, 49, 52, 56, 71]\n",
            "[13, 22, 29, 37, 46, 49, 52, 56, 71]\n"
          ]
        }
      ]
    },
    {
      "cell_type": "code",
      "source": [
        "#question 4\n",
        "def mergeSort(liss):\n",
        "    if len(liss) > 1:\n",
        "        mid = len(liss) // 2\n",
        "        left_list=liss[:mid]\n",
        "        right_list=liss[mid:]\n",
        "\n",
        "        mergeSort(left_list)\n",
        "        mergeSort(right_list)\n",
        "        i = 0\n",
        "        j = 0\n",
        "        k = 0\n",
        "        while i < len(left_list) and j < len(right_list):\n",
        "            if left_list[i] <= right_list[j]:\n",
        "                liss[k] = left_list[i]\n",
        "                i += 1\n",
        "            else:\n",
        "                liss[k] = right_list[j]\n",
        "                j += 1\n",
        "            k += 1\n",
        "\n",
        "\n",
        "        while i < len(left_list):\n",
        "            liss[k] = left_list[i]\n",
        "            i += 1\n",
        "            k += 1\n",
        "        while j < len(right_list):\n",
        "            liss[k] = right_list[j]\n",
        "            j += 1\n",
        "            k += 1\n",
        "\n",
        "\n",
        "\n",
        "\n",
        "myList = [29,13,22,37,52,49,46,71,56]\n",
        "mergeSort(myList)\n",
        "print(myList)"
      ],
      "metadata": {
        "colab": {
          "base_uri": "https://localhost:8080/"
        },
        "id": "oCT0JesZ3GEC",
        "outputId": "c8e2ff00-f6a0-441e-dbd2-4eecbe0338a5"
      },
      "execution_count": 13,
      "outputs": [
        {
          "output_type": "stream",
          "name": "stdout",
          "text": [
            "[13, 22, 29, 37, 46, 49, 52, 56, 71]\n"
          ]
        }
      ]
    },
    {
      "cell_type": "code",
      "source": [
        "#question 5 \n",
        "def quick_sort(sequence):\n",
        "    length = len(sequence)                                    \n",
        "    if length <= 1:\n",
        "        return sequence                                            \n",
        "    else :\n",
        "        pivot = sequence.pop()\n",
        "    items_greater = []\n",
        "    items_lower = []\n",
        "    for items in sequence:\n",
        "        if items > pivot:\n",
        "            items_greater.append(items)\n",
        "        else:\n",
        "            items_lower.append(items)\n",
        "    return quick_sort(items_lower) + [pivot] + quick_sort(items_greater)\n",
        "x = [29,13,22,37,52,49,46,71,56]\n",
        "print(quick_sort(x))"
      ],
      "metadata": {
        "colab": {
          "base_uri": "https://localhost:8080/"
        },
        "id": "Z6Wo6nHN3c9b",
        "outputId": "07fd9f1c-1034-4245-f6c1-9bd66b24e52c"
      },
      "execution_count": 14,
      "outputs": [
        {
          "output_type": "stream",
          "name": "stdout",
          "text": [
            "[13, 22, 29, 37, 46, 49, 52, 56, 71]\n"
          ]
        }
      ]
    }
  ]
}