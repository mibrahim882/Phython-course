{
  "nbformat": 4,
  "nbformat_minor": 0,
  "metadata": {
    "colab": {
      "provenance": []
    },
    "kernelspec": {
      "name": "python3",
      "display_name": "Python 3"
    },
    "language_info": {
      "name": "python"
    }
  },
  "cells": [
    {
      "cell_type": "code",
      "execution_count": 2,
      "metadata": {
        "colab": {
          "base_uri": "https://localhost:8080/"
        },
        "id": "pAIIpRxyUn2x",
        "outputId": "4eb75288-0e0c-4ce7-b4ae-85bb32471b0c"
      },
      "outputs": [
        {
          "output_type": "execute_result",
          "data": {
            "text/plain": [
              "[[1, 2, 3], [4, 5, 6]]"
            ]
          },
          "metadata": {},
          "execution_count": 2
        }
      ],
      "source": [
        "#question1\n",
        "import numpy as np\n",
        "x = np.array([[1,2,3],[4,5,6]])\n",
        "x.tolist()"
      ]
    },
    {
      "cell_type": "code",
      "source": [
        "#question 2\n",
        "import numpy as np\n",
        "x = np.array([[1,2,3],[4,5,6],[7,8,9]])\n",
        "x.trace()"
      ],
      "metadata": {
        "colab": {
          "base_uri": "https://localhost:8080/"
        },
        "id": "u0eN8t8-bycz",
        "outputId": "8ec14809-b1e1-4e0b-d210-3587e1c7bd7e"
      },
      "execution_count": 3,
      "outputs": [
        {
          "output_type": "execute_result",
          "data": {
            "text/plain": [
              "15"
            ]
          },
          "metadata": {},
          "execution_count": 3
        }
      ]
    },
    {
      "cell_type": "code",
      "source": [
        "#question 3 \n",
        "import numpy as np\n",
        "x = np.array([[1,2,3],[4,5,6]])\n",
        "print (x[x>3])"
      ],
      "metadata": {
        "colab": {
          "base_uri": "https://localhost:8080/"
        },
        "id": "WQxAzjDZcYQN",
        "outputId": "c9194824-37ed-4f20-99ad-3660aca8818c"
      },
      "execution_count": 8,
      "outputs": [
        {
          "output_type": "stream",
          "name": "stdout",
          "text": [
            "[4 5 6]\n"
          ]
        }
      ]
    },
    {
      "cell_type": "code",
      "source": [
        "#question 4 \n",
        "import numpy as np\n",
        "x = np.array([[1,2,3],[4,5,6]])\n",
        "y = np.array([[7,8,9],[10,11,12]])\n",
        "print (x+y)"
      ],
      "metadata": {
        "colab": {
          "base_uri": "https://localhost:8080/"
        },
        "id": "cDAdcFk8d49G",
        "outputId": "6ad49dc1-43ad-4e7a-e3ea-09c231a489c9"
      },
      "execution_count": 16,
      "outputs": [
        {
          "output_type": "stream",
          "name": "stdout",
          "text": [
            "[[ 8 10 12]\n",
            " [14 16 18]]\n"
          ]
        }
      ]
    },
    {
      "cell_type": "code",
      "source": [
        "#question 5 \n",
        "import numpy as np \n",
        "x = np.array([[1,2,3],[4,5,6]])\n",
        "print (x.mean()-y)"
      ],
      "metadata": {
        "colab": {
          "base_uri": "https://localhost:8080/"
        },
        "id": "yOmoVzQlfYcB",
        "outputId": "c4e7c642-7c50-42fe-cda2-d6755a68793d"
      },
      "execution_count": 23,
      "outputs": [
        {
          "output_type": "stream",
          "name": "stdout",
          "text": [
            "[[-3.5 -4.5 -5.5]\n",
            " [-6.5 -7.5 -8.5]]\n"
          ]
        }
      ]
    },
    {
      "cell_type": "code",
      "source": [],
      "metadata": {
        "id": "n0rxxb5EdWfc"
      },
      "execution_count": null,
      "outputs": []
    }
  ]
}