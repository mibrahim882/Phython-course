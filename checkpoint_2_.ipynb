{
  "nbformat": 4,
  "nbformat_minor": 0,
  "metadata": {
    "colab": {
      "provenance": []
    },
    "kernelspec": {
      "name": "python3",
      "display_name": "Python 3"
    },
    "language_info": {
      "name": "python"
    }
  },
  "cells": [
    {
      "cell_type": "code",
      "execution_count": null,
      "metadata": {
        "colab": {
          "base_uri": "https://localhost:8080/"
        },
        "id": "nigZMD5JLepV",
        "outputId": "8901f546-a18b-43f4-c1f5-1effdd8769c4"
      },
      "outputs": [
        {
          "output_type": "stream",
          "name": "stdout",
          "text": [
            "36\n"
          ]
        }
      ],
      "source": [
        "x=[2,3,6]\n",
        "sum=1\n",
        "for i in x:\n",
        "  sum=sum* i\n",
        "print(sum)\n",
        "\n"
      ]
    },
    {
      "cell_type": "code",
      "source": [
        "#question 2 \n",
        "x= [(2, 5), (1, 2), (4, 4), (2, 3), (2, 1)]\n",
        "for i in range(len(x)-1):\n",
        "  for k in range(len(x)-1):\n",
        "    if x[i][1] > x[i+1][1]:\n",
        "      x[i],x[i+1] = x[i+1],x[1]\n",
        "\n",
        " \n",
        "print(x)"
      ],
      "metadata": {
        "id": "4QQ_xsXhwBki",
        "colab": {
          "base_uri": "https://localhost:8080/"
        },
        "outputId": "3dbb986b-4f51-4854-91f4-e80aebeffa24"
      },
      "execution_count": 5,
      "outputs": [
        {
          "output_type": "stream",
          "name": "stdout",
          "text": [
            "[(1, 2), (1, 2), (1, 2), (2, 1), (1, 2)]\n"
          ]
        }
      ]
    },
    {
      "cell_type": "code",
      "source": [
        "#question 3\n",
        "d1 = {'a': 100, 'b': 200, 'c':300}\n",
        "\n",
        "d2 = {'a': 300, 'b': 200, 'd':400}\n",
        "\n",
        "d3 = dict(d1)\n",
        "d3.update(d2)\n",
        "\n",
        "\n",
        "for x,y in d1.items():\n",
        "  for h,a in d2.items():\n",
        "    if x==h:\n",
        "      d3[x]=(y+a)\n",
        "print(d3)     \n"
      ],
      "metadata": {
        "id": "jvyQdVIowBhy",
        "colab": {
          "base_uri": "https://localhost:8080/"
        },
        "outputId": "2883a382-90c5-436d-f2e6-1f0fd6deace2"
      },
      "execution_count": 8,
      "outputs": [
        {
          "output_type": "stream",
          "name": "stdout",
          "text": [
            "{'a': 400, 'b': 400, 'c': 300, 'd': 400}\n"
          ]
        }
      ]
    },
    {
      "cell_type": "code",
      "source": [
        "#question4 \n",
        "d1 = {'1': 1,'2':2,'3':3,'4':4,'5':5,'6':6,'7':7,'8':8}\n",
        "\n",
        "d2 = {'1': 1,'2':2,'3':3,'4':4,'5':5,'6':6,'7':7,'8':8}\n",
        "\n",
        "d3 =dict(d1)\n",
        "d3.update(d2)\n",
        "for x,y in d1.items():\n",
        "  for h,a in d2.items():\n",
        "   if x==h:\n",
        "    d3[x]=(y*a)\n",
        "print(d3)"
      ],
      "metadata": {
        "colab": {
          "base_uri": "https://localhost:8080/"
        },
        "id": "GREsNBvjfvGN",
        "outputId": "c5a75aef-cc13-49d2-f995-a01559cd6aff"
      },
      "execution_count": 24,
      "outputs": [
        {
          "output_type": "stream",
          "name": "stdout",
          "text": [
            "{'1': 1, '2': 4, '3': 9, '4': 16, '5': 25, '6': 36, '7': 49, '8': 64}\n"
          ]
        }
      ]
    },
    {
      "cell_type": "code",
      "source": [
        "# question 5 \n",
        "x = [('item1', '12.20'), ('item2', '15.10'), ('item3', '24.5')]\n",
        "for i in range(len(x)-1):\n",
        "   for  k in range(len(x)-1):\n",
        "     if float(x[i][1]) < float(x[i+1][1]):\n",
        "       x[i],x[i+1] = x[i+1],x[i]\n",
        "print(x)\n"
      ],
      "metadata": {
        "colab": {
          "base_uri": "https://localhost:8080/"
        },
        "id": "X8RHp3jhcakE",
        "outputId": "c59d79fa-7de9-49a0-e37c-f2dc77419c71"
      },
      "execution_count": 13,
      "outputs": [
        {
          "output_type": "stream",
          "name": "stdout",
          "text": [
            "[('item2', '15.10'), ('item3', '24.5'), ('item1', '12.20')]\n"
          ]
        }
      ]
    }
  ]
}